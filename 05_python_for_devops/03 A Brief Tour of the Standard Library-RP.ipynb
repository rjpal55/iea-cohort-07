{
 "cells": [
  {
   "cell_type": "markdown",
   "metadata": {},
   "source": [
    "# A Brief Tour of the Python Standard Library"
   ]
  },
  {
   "cell_type": "markdown",
   "metadata": {},
   "source": [
    "## Topics\n",
    "* [What is the Standard Library?](#What-is-the-Standard-Library?)\n",
    "* [Scripting Modules](#Scripting-Modules)\n",
    "    * `os` module\n",
    "    * `os.path` module\n",
    "    * `sys` module\n",
    "    * `shutil` module\n",
    "    * `glob` module\n",
    "    * `argparse` module\n",
    "    * `re` module\n",
    "* [Special Data Types](#Special-Data-Types)\n",
    "    * `collections` module\n",
    "    * `datetime` module\n",
    "    * `decimal` module\n",
    "* [Concurrency](#Concurrency)\n",
    "    * `subprocess` module\n",
    "    * `threading` and `multiprocessing` modules\n",
    "    * `asyncio` module\n",
    "    "
   ]
  },
  {
   "cell_type": "markdown",
   "metadata": {},
   "source": [
    "## What is the Standard Library?\n",
    "The Python Standard Library fulfills Python's \"Batteries Included\" philosophy. It is a set of packages and modules contributed by the Python community and adopted into the core Python distribution.\n",
    "* Installed by default with most distributions of Python\n",
    "* Just regular modules and packages\n",
    "* Some of it may require extra system packages\n",
    "* Continually evolving\n",
    "* Hundreds of modules! https://docs.python.org/3/library/index.html"
   ]
  },
  {
   "cell_type": "markdown",
   "metadata": {},
   "source": [
    "## Scripting Modules"
   ]
  },
  {
   "cell_type": "markdown",
   "metadata": {
    "slideshow": {
     "slide_type": "subslide"
    }
   },
   "source": [
    "### The `os` and `os.path` modules\n",
    "* operating system stuff\n",
    "* i.e., dealing with files, directories, etc.\n",
    "* handles cross-platform path issues (don't do this manually!)\n",
    "* also running commands outside of Python"
   ]
  },
  {
   "cell_type": "code",
   "execution_count": null,
   "metadata": {},
   "outputs": [],
   "source": [
    "import os\n",
    "os.system('ls') # doesn't print anything in the notebook, \n",
    "# but try it in Python shell"
   ]
  },
  {
   "cell_type": "code",
   "execution_count": null,
   "metadata": {},
   "outputs": [],
   "source": [
    "os.system('touch newfile')\n",
    "os.system('ls newfile')"
   ]
  },
  {
   "cell_type": "code",
   "execution_count": null,
   "metadata": {},
   "outputs": [],
   "source": [
    "# get the current working directory\n",
    "os.getcwd()"
   ]
  },
  {
   "cell_type": "code",
   "execution_count": null,
   "metadata": {},
   "outputs": [],
   "source": [
    "# Does the file 'newfile' exist?\n",
    "os.path.exists('newfile')"
   ]
  },
  {
   "cell_type": "code",
   "execution_count": null,
   "metadata": {},
   "outputs": [],
   "source": [
    "# create a directory\n",
    "os.mkdir('newdir')"
   ]
  },
  {
   "cell_type": "code",
   "execution_count": null,
   "metadata": {},
   "outputs": [],
   "source": [
    "# is 'newdir' a file?\n",
    "os.path.isfile('newdir')"
   ]
  },
  {
   "cell_type": "code",
   "execution_count": null,
   "metadata": {},
   "outputs": [],
   "source": [
    "#is 'newdir' a directory?\n",
    "os.path.isdir('newdir')"
   ]
  },
  {
   "cell_type": "code",
   "execution_count": null,
   "metadata": {},
   "outputs": [],
   "source": [
    "os.path.join('/home', 'jr/code')"
   ]
  },
  {
   "cell_type": "markdown",
   "metadata": {
    "slideshow": {
     "slide_type": "subslide"
    }
   },
   "source": [
    "### The __`sys`__ module\n",
    "* system-specific parameters and functions\n",
    "* we've already seen some examples, __`argv`__ and __`path`__"
   ]
  },
  {
   "cell_type": "code",
   "execution_count": null,
   "metadata": {},
   "outputs": [],
   "source": [
    "import sys\n",
    "sys.path"
   ]
  },
  {
   "cell_type": "code",
   "execution_count": null,
   "metadata": {},
   "outputs": [],
   "source": [
    "sys.maxsize"
   ]
  },
  {
   "cell_type": "code",
   "execution_count": null,
   "metadata": {},
   "outputs": [],
   "source": [
    "2 ** 63 - 1"
   ]
  },
  {
   "cell_type": "code",
   "execution_count": null,
   "metadata": {},
   "outputs": [],
   "source": [
    "# To exit a Python script, use sys.exit()\n",
    "# Won't work here, because we're in the notebook\n",
    "sys.exit()"
   ]
  },
  {
   "cell_type": "markdown",
   "metadata": {
    "slideshow": {
     "slide_type": "subslide"
    }
   },
   "source": [
    "### __`shutil`__ module\n",
    "* shell utilities\n",
    "* e.g., high-level file operations"
   ]
  },
  {
   "cell_type": "code",
   "execution_count": null,
   "metadata": {
    "scrolled": true
   },
   "outputs": [],
   "source": [
    "import os\n",
    "print(os.system('ls newfileCopy'))"
   ]
  },
  {
   "cell_type": "code",
   "execution_count": null,
   "metadata": {},
   "outputs": [],
   "source": [
    "import shutil\n",
    "# create a copy of a file\n",
    "shutil.copy('newfile', 'newfileCopy')\n",
    "# os.system('cp newfile newfileCopy')"
   ]
  },
  {
   "cell_type": "code",
   "execution_count": null,
   "metadata": {},
   "outputs": [],
   "source": [
    "os.system('ls newfileCopy')"
   ]
  },
  {
   "cell_type": "code",
   "execution_count": null,
   "metadata": {},
   "outputs": [],
   "source": [
    "shutil.move('newfileCopy', 'newerfile')"
   ]
  },
  {
   "cell_type": "code",
   "execution_count": null,
   "metadata": {},
   "outputs": [],
   "source": [
    "os.system('ls newerfile')"
   ]
  },
  {
   "cell_type": "markdown",
   "metadata": {
    "slideshow": {
     "slide_type": "subslide"
    }
   },
   "source": [
    "### __`glob`__ module\n",
    "* __`glob()`__ function matches file or directory names using Linux shell rules rather than regular expression syntax"
   ]
  },
  {
   "cell_type": "code",
   "execution_count": null,
   "metadata": {},
   "outputs": [],
   "source": [
    "import glob\n",
    "glob.glob('n*')"
   ]
  },
  {
   "cell_type": "code",
   "execution_count": null,
   "metadata": {},
   "outputs": [],
   "source": [
    "glob.glob('*e')"
   ]
  },
  {
   "cell_type": "code",
   "execution_count": null,
   "metadata": {},
   "outputs": [],
   "source": [
    "glob.glob('???')"
   ]
  },
  {
   "cell_type": "code",
   "execution_count": null,
   "metadata": {},
   "outputs": [],
   "source": [
    "import os\n",
    "os.system('touch abc')"
   ]
  },
  {
   "cell_type": "code",
   "execution_count": null,
   "metadata": {},
   "outputs": [],
   "source": [
    "glob.glob('???')"
   ]
  },
  {
   "cell_type": "markdown",
   "metadata": {},
   "source": [
    "### `argparse` module\n",
    "* Allow command line argument parsing for more complex command\n",
    "* Follows standards for Linux commands\n",
    "* Provides automatic help, nicely formatted output"
   ]
  },
  {
   "cell_type": "code",
   "execution_count": null,
   "metadata": {},
   "outputs": [],
   "source": [
    "import argparse\n",
    "\n",
    "parser = argparse.ArgumentParser(\n",
    "    description='argparse example')\n",
    "\n",
    "parser.add_argument('-a', action=\"store_true\",\n",
    "                    default=False)\n",
    "parser.add_argument('-b', action=\"store\", dest=\"blog\")\n",
    "parser.add_argument('-c', action=\"store\", dest=\"c\",\n",
    "                    type=int)\n",
    "parser.add_argument('--version', action='version', \n",
    "                    version='%(prog)s 2.0')\n",
    "\n",
    "# parse args from command line, which won't work in the notebook\n",
    "#args = parser.parse_args()\n",
    "\n",
    "# $ python3 myscript.py -a -b happy\n",
    "args = parser.parse_args(['-a', '-b happy'])\n",
    "\n",
    "print(args)\n",
    "\n",
    "if args.a:\n",
    "    print(\"-a was passed\")\n",
    "if args.blog:\n",
    "    print(\"-b\", args.blog, \"was passed\")\n",
    "if args.c:\n",
    "    print(\"-c\", args.c, \"was passed (int)\")"
   ]
  },
  {
   "cell_type": "code",
   "execution_count": null,
   "metadata": {},
   "outputs": [],
   "source": [
    "parser.parse_args([\"--help\"])"
   ]
  },
  {
   "cell_type": "markdown",
   "metadata": {},
   "source": [
    "### `re` module\n",
    "* `re` module allow regular expression processing inside Python\n",
    "* Several different functions for matching text patterns\n",
    "* Support subgroups in matching"
   ]
  },
  {
   "cell_type": "markdown",
   "metadata": {
    "slideshow": {
     "slide_type": "slide"
    }
   },
   "source": [
    "### Quick Review: Regular Expressions\n",
    "* special sequence of characters that helps you find specific text sequences in strings, files, etc.\n",
    "* \"wildcard\" characters take the place of a group of characters"
   ]
  },
  {
   "cell_type": "markdown",
   "metadata": {
    "slideshow": {
     "slide_type": "subslide"
    }
   },
   "source": [
    "### RE Metacharacters\n",
    "```\n",
    ". = any character except newline\n",
    "^ = beginning of line/string\n",
    "$ = end of line/string\n",
    "* = 0+ of the preceding RE\n",
    "+ = 1+ of the preceding RE\n",
    "? = 0 or 1 instances of preceding RE\n",
    "{n} = exactly n instances of the preceding RE\n",
    "[] = match character set or range, e.g., [aeiou], [a-z], etc.\n",
    "(…) = matches the RE inside the parens, and creates a group \n",
    "```"
   ]
  },
  {
   "cell_type": "code",
   "execution_count": null,
   "metadata": {},
   "outputs": [],
   "source": [
    "import re\n",
    "re.match('a.*a', 'alphabet')"
   ]
  },
  {
   "cell_type": "code",
   "execution_count": null,
   "metadata": {},
   "outputs": [],
   "source": [
    "re.match('h.*t', 'alphabet')"
   ]
  },
  {
   "cell_type": "code",
   "execution_count": null,
   "metadata": {},
   "outputs": [],
   "source": [
    "re.search('h.*t', 'alphabet')"
   ]
  },
  {
   "cell_type": "code",
   "execution_count": null,
   "metadata": {},
   "outputs": [],
   "source": [
    "re.search('a.*z', 'alphabet')"
   ]
  },
  {
   "cell_type": "code",
   "execution_count": null,
   "metadata": {},
   "outputs": [],
   "source": [
    "# you can search for fixed strings, rather than using wildcards...\n",
    "import re\n",
    "linenum = 0\n",
    "\n",
    "for line in open('poem.txt'):\n",
    "    linenum += 1\n",
    "    if re.search('the', line):\n",
    "        print('{}: {}'.format(linenum, \n",
    "                re.sub('the', '---', line)), end='')"
   ]
  },
  {
   "cell_type": "code",
   "execution_count": null,
   "metadata": {},
   "outputs": [],
   "source": [
    "!cat poem.txt"
   ]
  },
  {
   "cell_type": "code",
   "execution_count": null,
   "metadata": {},
   "outputs": [],
   "source": [
    "import re\n",
    "o = re.search('l.*e', 'alphabet')\n",
    "o.re"
   ]
  },
  {
   "cell_type": "code",
   "execution_count": null,
   "metadata": {},
   "outputs": [],
   "source": [
    "o.re.pattern"
   ]
  },
  {
   "cell_type": "code",
   "execution_count": null,
   "metadata": {},
   "outputs": [],
   "source": [
    "o.string"
   ]
  },
  {
   "cell_type": "code",
   "execution_count": null,
   "metadata": {},
   "outputs": [],
   "source": [
    "o.start(), o.end()"
   ]
  },
  {
   "cell_type": "code",
   "execution_count": null,
   "metadata": {},
   "outputs": [],
   "source": [
    "o.string[o.start():o.end()]"
   ]
  },
  {
   "cell_type": "markdown",
   "metadata": {
    "slideshow": {
     "slide_type": "subslide"
    }
   },
   "source": [
    "## Lab: Write a Cheap Imitation of __`grep`__ in Python\n",
    "* using the modules we've learned, write a Python program which takes two command line arguments, a filename and a regex pattern\n",
    "* your program should act like __`grep`__ in that it should search for the pattern in each line of the file\n",
    "* if the pattern matches a given line, print out the line\n",
    "* BONUS: Provide extra options for your script to change the behavior."
   ]
  },
  {
   "cell_type": "code",
   "execution_count": null,
   "metadata": {},
   "outputs": [],
   "source": []
  },
  {
   "cell_type": "markdown",
   "metadata": {
    "slideshow": {
     "slide_type": "subslide"
    }
   },
   "source": [
    "## Bonus Lab: Pluralization\n",
    "* write a program (or function) which takes a word as a command line argument and outputs the plural of that word\n",
    "* your program should follow these rules:\n",
    "  * if the word ends in 's', 'x', or 'z', the plural adds 'es', e.g., ax => axes, loss => losses\n",
    "  * if the word ends in an 'h', which is not preceded by a vowel or 'd', 'g', 'k', 'p', 'r', or 't', the plural adds 'es', ",
    "e.g., moth => moths, but match => matches\n",
    "  * if the word ends in a 'y' which is not preceded by a vowel, then the plural strips the 'y' and adds 'ies', ",
    "e.g., baby => babies, but boy => boys\n",
    "  * otherwise just add 's'"
   ]
  },
  {
   "cell_type": "markdown",
   "metadata": {},
   "source": [
    "## Special Data Types"
   ]
  },
  {
   "cell_type": "markdown",
   "metadata": {},
   "source": [
    "### The `collections` module\n",
    "* contains specialized data structures\n",
    "* specialized dictionaries `defaultdict` and `Counter`\n",
    "* double-ended queue `deque`"
   ]
  },
  {
   "cell_type": "code",
   "execution_count": 2,
   "metadata": {},
   "outputs": [],
   "source": [
    "import collections\n",
    "\n",
    "name_by_org = collections.defaultdict(list)"
   ]
  },
  {
   "cell_type": "code",
   "execution_count": 3,
   "metadata": {},
   "outputs": [
    {
     "data": {
      "text/plain": [
       "defaultdict(list, {'Accounting': ['Joe', 'Bob', 'Steve', 'Jeff']})"
      ]
     },
     "execution_count": 3,
     "metadata": {},
     "output_type": "execute_result"
    }
   ],
   "source": [
    "name_by_org[\"Accounting\"] = [\"Joe\", \"Bob\", \"Steve\"]\n",
    "name_by_org[\"Accounting\"].append(\"Jeff\")\n",
    "name_by_org"
   ]
  },
  {
   "cell_type": "code",
   "execution_count": 4,
   "metadata": {},
   "outputs": [
    {
     "data": {
      "text/plain": [
       "defaultdict(list,\n",
       "            {'Accounting': ['Joe', 'Bob', 'Steve', 'Jeff'],\n",
       "             'Platforms': ['Lisa'],\n",
       "             'Engineering': ['Sam']})"
      ]
     },
     "execution_count": 4,
     "metadata": {},
     "output_type": "execute_result"
    }
   ],
   "source": [
    "name_by_org[\"Platforms\"].append(\"Lisa\")\n",
    "name_by_org[\"Engineering\"].append(\"Sam\")\n",
    "name_by_org"
   ]
  },
  {
   "cell_type": "code",
   "execution_count": 5,
   "metadata": {},
   "outputs": [
    {
     "data": {
      "text/plain": [
       "deque(['First', 'Second', 'Third', 'Fourth'])"
      ]
     },
     "execution_count": 5,
     "metadata": {},
     "output_type": "execute_result"
    }
   ],
   "source": [
    "deq = collections.deque([\"First\", \"Second\", \"Third\", \"Fourth\"])\n",
    "deq"
   ]
  },
  {
   "cell_type": "code",
   "execution_count": 6,
   "metadata": {},
   "outputs": [
    {
     "data": {
      "text/plain": [
       "deque(['Third', 'Fourth', 'First', 'Second'])"
      ]
     },
     "execution_count": 6,
     "metadata": {},
     "output_type": "execute_result"
    }
   ],
   "source": [
    "deq.rotate(2)\n",
    "deq"
   ]
  },
  {
   "cell_type": "code",
   "execution_count": null,
   "metadata": {},
   "outputs": [],
   "source": [
    "deq.popleft()"
   ]
  },
  {
   "cell_type": "code",
   "execution_count": null,
   "metadata": {},
   "outputs": [],
   "source": [
    "deq.popleft()"
   ]
  },
  {
   "cell_type": "markdown",
   "metadata": {},
   "source": [
    "### The `decimal` module\n",
    "* provides a fixed-point decimal type\n",
    "* import when you can NOT have unexpected rounding (i.e. financials)\n",
    "* follows a set standard"
   ]
  },
  {
   "cell_type": "code",
   "execution_count": 8,
   "metadata": {},
   "outputs": [
    {
     "data": {
      "text/plain": [
       "Decimal('5')"
      ]
     },
     "execution_count": 8,
     "metadata": {},
     "output_type": "execute_result"
    }
   ],
   "source": [
    "import decimal\n",
    "d = decimal.Decimal(5)\n",
    "d"
   ]
  },
  {
   "cell_type": "code",
   "execution_count": 19,
   "metadata": {},
   "outputs": [
    {
     "data": {
      "text/plain": [
       "Decimal('53400000.00000000301980662698')"
      ]
     },
     "execution_count": 19,
     "metadata": {},
     "output_type": "execute_result"
    }
   ],
   "source": [
    "d = decimal.Decimal(.0534)\n",
    "d * 1000000000"
   ]
  },
  {
   "cell_type": "code",
   "execution_count": 21,
   "metadata": {},
   "outputs": [
    {
     "data": {
      "text/plain": [
       "53400000.0"
      ]
     },
     "execution_count": 21,
     "metadata": {},
     "output_type": "execute_result"
    }
   ],
   "source": [
    "f = .0534\n",
    "f * 1000000000"
   ]
  },
  {
   "cell_type": "code",
   "execution_count": null,
   "metadata": {},
   "outputs": [],
   "source": [
    "d = decimal.Decimal(\"5.34\")\n",
    "d"
   ]
  },
  {
   "cell_type": "code",
   "execution_count": null,
   "metadata": {},
   "outputs": [],
   "source": [
    "decimal.getcontext().prec"
   ]
  },
  {
   "cell_type": "code",
   "execution_count": null,
   "metadata": {},
   "outputs": [],
   "source": [
    "decimal.getcontext()"
   ]
  },
  {
   "cell_type": "markdown",
   "metadata": {},
   "source": [
    "### Rounding Modes\n",
    "```\n",
    "decimal.ROUND_CEILING\n",
    "Round towards Infinity.\n",
    "\n",
    "decimal.ROUND_DOWN\n",
    "Round towards zero.\n",
    "\n",
    "decimal.ROUND_FLOOR\n",
    "Round towards -Infinity.\n",
    "\n",
    "decimal.ROUND_HALF_DOWN\n",
    "Round to nearest with ties going towards zero.\n",
    "\n",
    "decimal.ROUND_HALF_EVEN\n",
    "Round to nearest with ties going to nearest even integer.\n",
    "\n",
    "decimal.ROUND_HALF_UP\n",
    "Round to nearest with ties going away from zero.\n",
    "\n",
    "decimal.ROUND_UP\n",
    "Round away from zero.\n",
    "\n",
    "decimal.ROUND_05UP\n",
    "Round away from zero if last digit after rounding towards zero would have been 0 or 5; otherwise round towards zero.\n",
    "```"
   ]
  },
  {
   "cell_type": "code",
   "execution_count": null,
   "metadata": {},
   "outputs": [],
   "source": [
    "float_pi = 22 / 7\n",
    "dec_pi = decimal.Decimal(22) / decimal.Decimal(7)\n",
    "print(float_pi, dec_pi)"
   ]
  },
  {
   "cell_type": "code",
   "execution_count": null,
   "metadata": {},
   "outputs": [],
   "source": [
    "decimal.Decimal(355) / decimal.Decimal(113)"
   ]
  },
  {
   "cell_type": "markdown",
   "metadata": {},
   "source": [
    "### The `datetime` module\n",
    "* handles date and time math\n",
    "* provides `date`, `time`, and `datetime` types\n",
    "* flexible string formatting\n",
    "* does NOT provide timezone lists (they change a lot!)"
   ]
  },
  {
   "cell_type": "code",
   "execution_count": 24,
   "metadata": {},
   "outputs": [
    {
     "name": "stdout",
     "output_type": "stream",
     "text": [
      "1991\n",
      "2\n",
      "Day of the week (Monday = 0) 2\n"
     ]
    }
   ],
   "source": [
    "import datetime\n",
    "\n",
    "python_birthday = datetime.datetime.strptime(\"02/20/91\", \"%x\")\n",
    "\n",
    "print(python_birthday.year)\n",
    "print(python_birthday.month)\n",
    "print(\"Day of the week (Monday = 0)\", python_birthday.weekday())"
   ]
  },
  {
   "cell_type": "code",
   "execution_count": 25,
   "metadata": {},
   "outputs": [
    {
     "data": {
      "text/plain": [
       "'1991-02-20T00:00:00'"
      ]
     },
     "execution_count": 25,
     "metadata": {},
     "output_type": "execute_result"
    }
   ],
   "source": [
    "python_birthday.isoformat()"
   ]
  },
  {
   "cell_type": "code",
   "execution_count": 26,
   "metadata": {},
   "outputs": [
    {
     "data": {
      "text/plain": [
       "datetime.date(2022, 4, 21)"
      ]
     },
     "execution_count": 26,
     "metadata": {},
     "output_type": "execute_result"
    }
   ],
   "source": [
    "now = datetime.date.today()\n",
    "three_weeks_ago = now - datetime.timedelta(weeks=3)\n",
    "three_weeks_ago"
   ]
  },
  {
   "cell_type": "code",
   "execution_count": 29,
   "metadata": {},
   "outputs": [
    {
     "ename": "TypeError",
     "evalue": "unsupported operand type(s) for -: 'datetime.datetime' and 'tuple'",
     "output_type": "error",
     "traceback": [
      "\u001b[0;31m---------------------------------------------------------------------------\u001b[0m",
      "\u001b[0;31mTypeError\u001b[0m                                 Traceback (most recent call last)",
      "\u001b[0;32m<ipython-input-29-f7d232aee1b3>\u001b[0m in \u001b[0;36m<module>\u001b[0;34m\u001b[0m\n\u001b[1;32m      1\u001b[0m \u001b[0mnow\u001b[0m \u001b[0;34m=\u001b[0m \u001b[0mdatetime\u001b[0m\u001b[0;34m.\u001b[0m\u001b[0mdatetime\u001b[0m\u001b[0;34m.\u001b[0m\u001b[0mnow\u001b[0m\u001b[0;34m(\u001b[0m\u001b[0;34m)\u001b[0m\u001b[0;34m\u001b[0m\u001b[0;34m\u001b[0m\u001b[0m\n\u001b[1;32m      2\u001b[0m \u001b[0musbd\u001b[0m \u001b[0;34m=\u001b[0m \u001b[0;34m(\u001b[0m\u001b[0;36m1776\u001b[0m\u001b[0;34m,\u001b[0m \u001b[0;36m7\u001b[0m\u001b[0;34m,\u001b[0m \u001b[0;36m4\u001b[0m\u001b[0;34m,\u001b[0m \u001b[0;36m12\u001b[0m\u001b[0;34m,\u001b[0m \u001b[0;36m5\u001b[0m\u001b[0;34m,\u001b[0m \u001b[0;36m10\u001b[0m\u001b[0;34m,\u001b[0m \u001b[0;36m61000\u001b[0m\u001b[0;34m)\u001b[0m\u001b[0;34m\u001b[0m\u001b[0;34m\u001b[0m\u001b[0m\n\u001b[0;32m----> 3\u001b[0;31m \u001b[0mnow\u001b[0m \u001b[0;34m-\u001b[0m \u001b[0musbd\u001b[0m\u001b[0;34m\u001b[0m\u001b[0;34m\u001b[0m\u001b[0m\n\u001b[0m",
      "\u001b[0;31mTypeError\u001b[0m: unsupported operand type(s) for -: 'datetime.datetime' and 'tuple'"
     ]
    }
   ],
   "source": [
    "now = datetime.datetime.now()\n",
    "usbd = (1776, 7, 4, 12, 5, 10, 61000)\n",
    "now - usbd"
   ]
  },
  {
   "cell_type": "markdown",
   "metadata": {},
   "source": [
    "**NOTE**: Timezones change frequently for social, political, and various other reasons.  You can manage these manually, or the third party package `dateutil` provides a timezone database and functionality and is compatible with regular the `datetime` module.  "
   ]
  },
  {
   "cell_type": "markdown",
   "metadata": {},
   "source": [
    "### Lab: datetime manipulation\n",
    "* Using functions from the `datetime` module, write a small script called `convert_date.py` that converts an epoch timestamp to something human readable.\n",
    "* Have your script prompt the user for an epoch time, or allow the user to pipe in an epoch time from bash like so:  `date +%s | python3 convert_date.py`\n",
    "* BONUS: Provide extra options to your script to switch output between a \"friendly\" timestamp and an ISO 8601 format timestamp"
   ]
  },
  {
   "cell_type": "markdown",
   "metadata": {},
   "source": [
    "## Concurrency"
   ]
  },
  {
   "cell_type": "markdown",
   "metadata": {
    "slideshow": {
     "slide_type": "subslide"
    }
   },
   "source": [
    "### `subprocess` module\n",
    "* supplants __`os.system()/os.spawn()`__, both of which used to be standard way to run programs outside of Python\n",
    "* Allow running and controlling other programs, even interactively"
   ]
  },
  {
   "cell_type": "code",
   "execution_count": 30,
   "metadata": {},
   "outputs": [
    {
     "data": {
      "text/plain": [
       "'Fri May 13 10:00:37 EDT 2022'"
      ]
     },
     "execution_count": 30,
     "metadata": {},
     "output_type": "execute_result"
    }
   ],
   "source": [
    "import subprocess\n",
    "ret = subprocess.getoutput('date')\n",
    "ret"
   ]
  },
  {
   "cell_type": "code",
   "execution_count": 31,
   "metadata": {},
   "outputs": [
    {
     "data": {
      "text/plain": [
       "'01 Introduction - Python for DevOps-RP.ipynb\\n02 More Python for DevOps-RP.ipynb\\n03 A Brief Tour of the Standard Library-RP.ipynb\\n04 The Python Ecosystem.ipynb\\nabc\\ncalc_func.py\\ncalc_prog.py\\ncalculator.py\\nclass_calculator.py\\nconvert_date.py\\nConway.py\\nhamlet.txt\\nimages\\nlab_add_commas.py\\nlab_add_commas.py.old\\nlab_calculator.old.2.py\\nlab_calculator.py\\nlab_calculator.py.old\\nlab_collatz.py\\nlab_collatz_recursive.py\\nlab_deduplicate.py\\nlab_fileio_dicts.py\\nlab_fileio.py\\nlab_lists.py\\nlab_my_module.py\\nlab_roman_reversed.py\\nlab_string_functions.py\\nlab_sumdigits.py\\nlab_sumdigits.py.old\\nmath\\nnewerfile\\nnewfile\\nnewfileCopy\\noperator\\npoem.txt\\nprog1.py\\n__pycache__\\nrequirements.txt'"
      ]
     },
     "execution_count": 31,
     "metadata": {},
     "output_type": "execute_result"
    }
   ],
   "source": [
    "ret = subprocess.getoutput('ls')\n",
    "ret"
   ]
  },
  {
   "cell_type": "code",
   "execution_count": 32,
   "metadata": {},
   "outputs": [
    {
     "name": "stdout",
     "output_type": "stream",
     "text": [
      "01 Introduction - Python for DevOps-RP.ipynb\n",
      "02 More Python for DevOps-RP.ipynb\n",
      "03 A Brief Tour of the Standard Library-RP.ipynb\n",
      "04 The Python Ecosystem.ipynb\n",
      "abc\n",
      "calc_func.py\n",
      "calc_prog.py\n",
      "calculator.py\n",
      "class_calculator.py\n",
      "convert_date.py\n",
      "Conway.py\n",
      "hamlet.txt\n",
      "images\n",
      "lab_add_commas.py\n",
      "lab_add_commas.py.old\n",
      "lab_calculator.old.2.py\n",
      "lab_calculator.py\n",
      "lab_calculator.py.old\n",
      "lab_collatz.py\n",
      "lab_collatz_recursive.py\n",
      "lab_deduplicate.py\n",
      "lab_fileio_dicts.py\n",
      "lab_fileio.py\n",
      "lab_lists.py\n",
      "lab_my_module.py\n",
      "lab_roman_reversed.py\n",
      "lab_string_functions.py\n",
      "lab_sumdigits.py\n",
      "lab_sumdigits.py.old\n",
      "math\n",
      "newerfile\n",
      "newfile\n",
      "newfileCopy\n",
      "operator\n",
      "poem.txt\n",
      "prog1.py\n",
      "__pycache__\n",
      "requirements.txt\n"
     ]
    }
   ],
   "source": [
    "print(ret)"
   ]
  },
  {
   "cell_type": "code",
   "execution_count": 33,
   "metadata": {},
   "outputs": [
    {
     "name": "stdout",
     "output_type": "stream",
     "text": [
      "Help on function run in module subprocess:\n",
      "\n",
      "run(*popenargs, input=None, capture_output=False, timeout=None, check=False, **kwargs)\n",
      "    Run command with arguments and return a CompletedProcess instance.\n",
      "    \n",
      "    The returned instance will have attributes args, returncode, stdout and\n",
      "    stderr. By default, stdout and stderr are not captured, and those attributes\n",
      "    will be None. Pass stdout=PIPE and/or stderr=PIPE in order to capture them.\n",
      "    \n",
      "    If check is True and the exit code was non-zero, it raises a\n",
      "    CalledProcessError. The CalledProcessError object will have the return code\n",
      "    in the returncode attribute, and output & stderr attributes if those streams\n",
      "    were captured.\n",
      "    \n",
      "    If timeout is given, and the process takes too long, a TimeoutExpired\n",
      "    exception will be raised.\n",
      "    \n",
      "    There is an optional argument \"input\", allowing you to\n",
      "    pass bytes or a string to the subprocess's stdin.  If you use this argument\n",
      "    you may not also use the Popen constructor's \"stdin\" argument, as\n",
      "    it will be used internally.\n",
      "    \n",
      "    By default, all communication is in bytes, and therefore any \"input\" should\n",
      "    be bytes, and the stdout and stderr will be bytes. If in text mode, any\n",
      "    \"input\" should be a string, and stdout and stderr will be strings decoded\n",
      "    according to locale encoding, or by \"encoding\" if set. Text mode is\n",
      "    triggered by setting any of text, encoding, errors or universal_newlines.\n",
      "    \n",
      "    The other arguments are the same as for the Popen constructor.\n",
      "\n"
     ]
    }
   ],
   "source": [
    "help(subprocess.run)"
   ]
  },
  {
   "cell_type": "code",
   "execution_count": 34,
   "metadata": {},
   "outputs": [
    {
     "name": "stdout",
     "output_type": "stream",
     "text": [
      "<class 'subprocess.CompletedProcess'>\n",
      "['grep', 'Python', 'hamlet.txt'] returned 1\n",
      "None None\n"
     ]
    }
   ],
   "source": [
    "procinfo = subprocess.run([\"grep\", \"Python\", \"hamlet.txt\"])\n",
    "print(type(procinfo))\n",
    "print(procinfo.args, \"returned\", procinfo.returncode)\n",
    "print(procinfo.stdout, procinfo.stderr)"
   ]
  },
  {
   "cell_type": "code",
   "execution_count": 35,
   "metadata": {},
   "outputs": [
    {
     "data": {
      "text/plain": [
       "CompletedProcess(args='cat poem.txt | grep wood', returncode=0, stdout=b'Two roads diverged in a yellow wood,\\t\\nTwo roads diverged in a wood, and I\\xe2\\x80\\x94\\t\\n', stderr=b'')"
      ]
     },
     "execution_count": 35,
     "metadata": {},
     "output_type": "execute_result"
    }
   ],
   "source": [
    "procinfo = subprocess.run(\"cat poem.txt | grep wood\", shell=True, capture_output=True)\n",
    "procinfo"
   ]
  },
  {
   "cell_type": "markdown",
   "metadata": {},
   "source": [
    "### The `threading` and `multiprocessing` modules\n",
    "* Similar interfaces - one creates *threads* and one creates *processes*\n",
    "* Fine-grained control with `Thread` and `Process` types\n",
    "    * Simpler concurrency with `ThreadPoolExecutor` and `ProcessPoolExecutor` available in the `concurrent.futures` module\n",
    "* Tradeoffs\n",
    "    * Threading - The GIL restricts multiple cores\n",
    "    * Multiprocessing - memory and communication\n",
    "* Concurrent code is hard - don't make it your hammer!"
   ]
  },
  {
   "cell_type": "markdown",
   "metadata": {},
   "source": [
    "### What are threads, anyway?\n",
    "* We studied **processes**, which are any running program and all the associated information.\n",
    "* The kernel schedules processes to run on the CPU\n",
    "* Within a given process, a program can create *threads of execution* which can run on a CPU (or core)\n",
    "* Threads **share all resources** within the process, so we must write *thread-safe* code"
   ]
  },
  {
   "cell_type": "code",
   "execution_count": null,
   "metadata": {},
   "outputs": [],
   "source": [
    "import os\n",
    "import threading\n",
    "import time\n",
    "\n",
    "# This function gets started in a new thread\n",
    "def worker():\n",
    "    thread_name = threading.current_thread().name\n",
    "    pid = os.getpid()\n",
    "    print(\"Hello from thread\", thread_name, \"in process\", pid)\n",
    "    print(f\"Worker {pid}:{thread_name} is done!\")\n",
    "    \n",
    "\n",
    "# This code runs first, in the main thread\n",
    "print(\n",
    "    \"Starting in the main thread:\", \n",
    "    threading.current_thread().name,\n",
    "    \"pid =\",\n",
    "    os.getpid())\n",
    "# Create the threads\n",
    "# \"target\" is what the thread should run\n",
    "threads = [threading.Thread(target=worker) for i in range(10)]\n",
    "print(\"Running worker threads and going to sleep for 10 seconds\")\n",
    "\n",
    "# Start the threads running\n",
    "for thread in threads:\n",
    "    thread.start()\n",
    "time.sleep(10)\n",
    "print(\"Waiting for threads to finish\")\n",
    "# Wait for the threads to finish up\n",
    "for thread in threads:\n",
    "    thread.join()\n",
    "print(\"Main thread is done!\")"
   ]
  },
  {
   "cell_type": "code",
   "execution_count": null,
   "metadata": {},
   "outputs": [],
   "source": [
    "import os\n",
    "import multiprocessing\n",
    "import threading\n",
    "import time\n",
    "\n",
    "# This function gets started in a new subprocess\n",
    "def worker():\n",
    "    thread_name = threading.current_thread().name\n",
    "    pid = os.getpid()\n",
    "    print(\"Hello from thread\", thread_name, \"in process\", pid)\n",
    "    print(f\"Worker {pid}:{thread_name} is done!\")\n",
    "    \n",
    "\n",
    "# This code runs first, in the parent process    \n",
    "print(\n",
    "    \"Starting in the main thread:\", \n",
    "    threading.current_thread().name,\n",
    "    \"pid =\",\n",
    "    os.getpid())\n",
    "\n",
    "# Create the subprocesses\n",
    "# \"target\" is what the child process should run\n",
    "processes = [multiprocessing.Process(target=worker) for i in range(10)]\n",
    "print(\"Running worker threads and going to sleep for 10 seconds\")\n",
    "# Start the processes running\n",
    "for proc in processes:\n",
    "    proc.start()\n",
    "time.sleep(10)\n",
    "print(\"Waiting for threads to finish\")\n",
    "# Wait for the processes to finish up\n",
    "for proc in processes:\n",
    "    proc.join()\n",
    "print(\"Main thread is done!\")"
   ]
  },
  {
   "cell_type": "code",
   "execution_count": null,
   "metadata": {},
   "outputs": [],
   "source": [
    "import os\n",
    "import multiprocessing\n",
    "import queue\n",
    "import time\n",
    "\n",
    "def worker(q):\n",
    "    pid = os.getpid()\n",
    "    while True:\n",
    "        try:\n",
    "            next_task = q.get(timeout=1)\n",
    "        except queue.Empty:\n",
    "            print(\"Worker\", pid, \"quitting.\")\n",
    "            break\n",
    "        print(\"Worker\", pid, \"processing:\", next_task)\n",
    "        time.sleep(1)\n",
    "\n",
    "# Create work tasks in the main process\n",
    "# and use a Queue to distribute work to the\n",
    "# child processes\n",
    "to_do = multiprocessing.Queue()\n",
    "for i in range(100):\n",
    "    to_do.put(f\"Record #{i}\")\n",
    "\n",
    "processes = [\n",
    "    multiprocessing.Process(target=worker, args=(to_do,)) \n",
    "    for i in range(10)]\n",
    "\n",
    "for proc in processes:\n",
    "    proc.start()\n",
    "for proc in processes:\n",
    "    proc.join()\n",
    "print(\"All work complete!\")"
   ]
  },
  {
   "cell_type": "markdown",
   "metadata": {},
   "source": [
    "### The `asyncio` module\n",
    "* Allows asynchronous processing WITHOUT creating threads or processes\n",
    "* Uses the new `async` and `await` keywords (Python 3.5+)\n",
    "* Uses an *event loop* to run tasks in *coroutines*"
   ]
  },
  {
   "cell_type": "markdown",
   "metadata": {},
   "source": [
    "### Cooperative Multitasking vs. Preemptive Multitasking\n",
    "* `threading` and `multiprocessing` both use *preemptive multitasking*\n",
    "    * Operating system is aware of the threads and processes\n",
    "    * The OS (kernel) can preempt (interrupt) a thread or process **at any time** and we have no control over it!\n",
    "    * Requires OS-level synchronization objects and can lead to subtle bugs like *race conditions*\n",
    "* `asyncio` uses *cooperative multitasking*\n",
    "    * Only runs in a single thread, no OS-level synchronization\n",
    "    * Event loop keeps track of ready tasks vs. waiting tasks\n",
    "    * Currently running task must *voluntarily yield control* back to the event loop"
   ]
  },
  {
   "cell_type": "code",
   "execution_count": null,
   "metadata": {},
   "outputs": [],
   "source": [
    "import asyncio\n",
    "\n",
    "# Async declares this as a coroutine\n",
    "async def blip_on_2():\n",
    "    # Await yields control to the event loop\n",
    "    for i in range(10):\n",
    "        await asyncio.sleep(2)\n",
    "        print(f\"Blip #{i}!\")\n",
    "\n",
    "# Coroutines can take args, just like regular functions\n",
    "async def bloop_on_X(x):\n",
    "    for i in range(10):\n",
    "        await asyncio.sleep(x)\n",
    "        print(f\"Bloop #{i}!\")\n",
    "        \n",
    "async def read_poem():\n",
    "    with open(\"poem.txt\") as poem:\n",
    "        for line in poem:\n",
    "            print(line)\n",
    "            await asyncio.sleep(0.5)\n",
    "            \n",
    "            \n",
    "async def main():\n",
    "    # Create tasks so these coroutines can all run concurrently\n",
    "    blip_task = asyncio.create_task(blip_on_2())\n",
    "    bloop_task = asyncio.create_task(bloop_on_X(3))\n",
    "    read_poem_task = asyncio.create_task(read_poem())\n",
    "    \n",
    "    print(\"Main: Waiting on tasks to complete!\")\n",
    "    # Wait for all tasks to complete\n",
    "    await blip_task\n",
    "    await bloop_task\n",
    "    await read_poem_task\n",
    "    print(\"All Done!\")\n",
    "\n",
    "# Starts the event loop with the main() coroutine\n",
    "asyncio.run(main())"
   ]
  },
  {
   "cell_type": "markdown",
   "metadata": {},
   "source": [
    "### Concurrency Recap\n",
    "* Concurrency doesn't magically speed up code - it simply takes advantage the time your code is *already sitting idle* waiting on I/O\n",
    "* Only `multiprocessing` truly can run *parallel* code on multiple cores, but you pay a resource cost\n",
    "* Concurrent code syncronization can be difficult - look for easier cases\n",
    "    * Tasks that are completely independent\n",
    "    * Tasks that wait around for file or network I/O\n",
    "    * Tasks that can be easily broken into batches and combined at the end"
   ]
  },
  {
   "cell_type": "code",
   "execution_count": null,
   "metadata": {},
   "outputs": [],
   "source": []
  }
 ],
 "metadata": {
  "celltoolbar": "Slideshow",
  "kernelspec": {
   "display_name": "Python 3",
   "language": "python",
   "name": "python3"
  },
  "language_info": {
   "codemirror_mode": {
    "name": "ipython",
    "version": 3
   },
   "file_extension": ".py",
   "mimetype": "text/x-python",
   "name": "python",
   "nbconvert_exporter": "python",
   "pygments_lexer": "ipython3",
   "version": "3.7.10"
  }
 },
 "nbformat": 4,
 "nbformat_minor": 4
}
